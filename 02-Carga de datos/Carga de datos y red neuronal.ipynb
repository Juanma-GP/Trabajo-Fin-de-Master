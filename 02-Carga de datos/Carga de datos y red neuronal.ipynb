{
 "cells": [
  {
   "cell_type": "code",
   "execution_count": 1,
   "metadata": {},
   "outputs": [
    {
     "name": "stderr",
     "output_type": "stream",
     "text": [
      "C:\\Users\\Juanma\\Anaconda3\\lib\\site-packages\\h5py\\__init__.py:36: FutureWarning: Conversion of the second argument of issubdtype from `float` to `np.floating` is deprecated. In future, it will be treated as `np.float64 == np.dtype(float).type`.\n",
      "  from ._conv import register_converters as _register_converters\n",
      "Using TensorFlow backend.\n"
     ]
    }
   ],
   "source": [
    "import os\n",
    "import cv2\n",
    "import pickle\n",
    "import numpy as np\n",
    "import pandas as pd\n",
    "\n",
    "from time import time\n",
    "from keras.models import Sequential\n",
    "from keras.layers import Dense\n",
    "from keras.layers import Dropout\n",
    "from keras.layers import Flatten\n",
    "from keras.layers.convolutional import Conv1D, Conv2D\n",
    "from keras.layers.convolutional import MaxPooling2D\n",
    "from keras.utils import np_utils\n",
    "from keras import backend as K\n",
    "\n",
    "from sklearn.externals import joblib"
   ]
  },
  {
   "cell_type": "code",
   "execution_count": 2,
   "metadata": {},
   "outputs": [],
   "source": [
    "# X_train = []\n",
    "# y_train = []\n",
    "# X_test = []\n",
    "# y_test = []\n",
    "\n",
    "# tiempoInicio = time()\n",
    "# count=0\n",
    "# yourpath = '../imagenes-vacia/'\n",
    "# for root, dirs, files in os.walk(yourpath, topdown=False):\n",
    "#     for name in files:\n",
    "#         if count%10==0:\n",
    "#             imagen = cv2.imread(yourpath+name)\n",
    "#             X_test.append(imagen)\n",
    "#             y_test.append('vacia')\n",
    "#         else:\n",
    "#             imagen = cv2.imread(yourpath+name)\n",
    "#             X_train.append(imagen)\n",
    "#             y_train.append('vacia')\n",
    "#         count += 1\n",
    "\n",
    "# yourpath = '../imagenes-congestionada/'\n",
    "# for root, dirs, files in os.walk(yourpath, topdown=False):\n",
    "#     for name in files:\n",
    "#         if count%10==0:\n",
    "#             imagen = cv2.imread(yourpath+name)\n",
    "#             X_test.append(imagen)\n",
    "#             y_test.append('congestionada')\n",
    "#         else:\n",
    "#             imagen = cv2.imread(yourpath+name)\n",
    "#             X_train.append(imagen)\n",
    "#             y_train.append('congestionada')\n",
    "#         count += 1\n",
    "\n",
    "# yourpath = '../imagenes-atascada/'\n",
    "# for root, dirs, files in os.walk(yourpath, topdown=False):\n",
    "#     for name in files:\n",
    "#         if count%10==0:\n",
    "#             imagen = cv2.imread(yourpath+name)\n",
    "#             X_test.append(imagen)\n",
    "#             y_test.append('atascada')\n",
    "#         else:\n",
    "#             imagen = cv2.imread(yourpath+name)\n",
    "#             X_train.append(imagen)\n",
    "#             y_train.append('atascada')\n",
    "#         count += 1\n",
    "# print(\"Tiempo final: \",str(time()-tiempoInicio))  # 29.28268814086914"
   ]
  },
  {
   "cell_type": "code",
   "execution_count": 3,
   "metadata": {},
   "outputs": [],
   "source": [
    "# filename=r'C:\\Users\\Juanma\\Documents\\RX_train.sav'\n",
    "# joblib.dump(X_train,filename)\n",
    "# filename=r'C:\\Users\\Juanma\\Documents\\RX_test.sav'\n",
    "# joblib.dump(X_test,filename)\n",
    "# filename=r'C:\\Users\\Juanma\\Documents\\Ry_train.sav'\n",
    "# joblib.dump(y_train,filename)\n",
    "# filename=r'C:\\Users\\Juanma\\Documents\\Ry_test.sav'\n",
    "# joblib.dump(y_test,filename)"
   ]
  },
  {
   "cell_type": "code",
   "execution_count": 4,
   "metadata": {},
   "outputs": [
    {
     "name": "stdout",
     "output_type": "stream",
     "text": [
      "Tiempo final:  1.0292751789093018\n"
     ]
    }
   ],
   "source": [
    "tiempoInicio = time()\n",
    "tiempo_total_0 = tiempoInicio\n",
    "sav_X_train = r\"C:\\Users\\Juanma\\Documents\\RX_train.sav\"\n",
    "X_train = joblib.load(sav_X_train)\n",
    "sav_y_train = r\"C:\\Users\\Juanma\\Documents\\Ry_train.sav\"\n",
    "y_train = joblib.load(sav_y_train)\n",
    "sav_X_test = r\"C:\\Users\\Juanma\\Documents\\RX_test.sav\"\n",
    "X_test = joblib.load(sav_X_test)\n",
    "sav_y_test = r\"C:\\Users\\Juanma\\Documents\\Ry_test.sav\"\n",
    "y_test = joblib.load(sav_y_test)\n",
    "print(\"Tiempo final: \",str(time()-tiempoInicio)) #4088 fotos -> 0.24434423446655273 s"
   ]
  },
  {
   "cell_type": "markdown",
   "metadata": {},
   "source": []
  },
  {
   "cell_type": "code",
   "execution_count": 5,
   "metadata": {},
   "outputs": [
    {
     "name": "stdout",
     "output_type": "stream",
     "text": [
      "Longitud del conjunto de fotos de train:  18393\n",
      "Longitud del conjunto de fotos de test:    2044\n",
      "Tamaño de cada imagen: \t\t\t    56 x 100\n",
      "0 - carreteras vacias -  5477 - congestionadas - 13002 - atascadas - 18393\n"
     ]
    }
   ],
   "source": [
    "import matplotlib.pyplot as ply\n",
    "print('Longitud del conjunto de fotos de train: ',len(X_train))\n",
    "print('Longitud del conjunto de fotos de test:   ',len(X_test))\n",
    "print('Tamaño de cada imagen: \\t\\t\\t   ',X_train[0].shape[0],'x',X_train[0].shape[1])\n",
    "y_train_num = []\n",
    "y_test_num = []\n",
    "num_vacia_test=0\n",
    "num_vacia_train=0\n",
    "num_congestionada_train=0\n",
    "num_congestionada_test=0\n",
    "num_atascada_train=0\n",
    "num_atascada_test=0\n",
    "for etiqueta in y_test:\n",
    "    if etiqueta=='vacia':\n",
    "        num_vacia_test += 1\n",
    "        y_test_num.append(0)\n",
    "    elif etiqueta=='congestionada':\n",
    "        num_congestionada_test += 1\n",
    "        y_test_num.append(1)\n",
    "    elif etiqueta == 'atascada':\n",
    "        num_atascada_test +=1\n",
    "        y_test_num.append(2)\n",
    "for etiqueta in y_train:\n",
    "    if etiqueta=='vacia':\n",
    "        num_vacia_train += 1\n",
    "        y_train_num.append(0)\n",
    "    elif etiqueta=='congestionada':\n",
    "        num_congestionada_train += 1\n",
    "        y_train_num.append(1)\n",
    "    elif etiqueta == 'atascada':\n",
    "        num_atascada_train +=1\n",
    "        y_train_num.append(2)\n",
    "print('0 - carreteras vacias - ',str(num_vacia_train),'- congestionadas -',\n",
    "      str(num_vacia_train+num_congestionada_train),'- atascadas -',\n",
    "      str(num_vacia_train+num_congestionada_train+num_atascada_train))"
   ]
  },
  {
   "cell_type": "code",
   "execution_count": 6,
   "metadata": {},
   "outputs": [
    {
     "data": {
      "image/png": "[encoded data removed]",
      "text/plain": [
       "<Figure size 432x288 with 1 Axes>"
      ]
     },
     "metadata": {},
     "output_type": "display_data"
    },
    {
     "data": {
      "image/png": "[encoded data removed]",
      "text/plain": [
       "<Figure size 432x288 with 1 Axes>"
      ]
     },
     "metadata": {},
     "output_type": "display_data"
    },
    {
     "data": {
      "image/png": "[encoded data removed]",
      "text/plain": [
       "<Figure size 432x288 with 1 Axes>"
      ]
     },
     "metadata": {},
     "output_type": "display_data"
    }
   ],
   "source": [
    "ply.imshow(X_train[10])\n",
    "ply.title(y_train[10])\n",
    "ply.show()\n",
    "ply.imshow(X_train[1611])\n",
    "ply.title(y_train[1611])\n",
    "ply.show()\n",
    "ply.imshow(X_train[2600])\n",
    "ply.title(y_train[2600])\n",
    "ply.show()"
   ]
  },
  {
   "cell_type": "markdown",
   "metadata": {},
   "source": [
    "## Normalizacion de los datos presentes en la foto"
   ]
  },
  {
   "cell_type": "code",
   "execution_count": 7,
   "metadata": {},
   "outputs": [],
   "source": [
    "X_train = [[[z/255 for z in y] for y in x] for x in X_train]\n",
    "X_test = [[[z/255 for z in y] for y in x] for x in X_test]"
   ]
  },
  {
   "cell_type": "code",
   "execution_count": 8,
   "metadata": {},
   "outputs": [],
   "source": [
    "# X_train.shape"
   ]
  },
  {
   "cell_type": "code",
   "execution_count": 15,
   "metadata": {},
   "outputs": [],
   "source": [
    "# Definimos el modelo\n",
    "num_classes=3\n",
    "def gen_model():\n",
    "    model = Sequential()\n",
    "    model.add(Conv2D(32, (5, 5), input_shape=(56,100,3), activation='relu'))\n",
    "    model.add(MaxPooling2D(pool_size=(4, 4)))\n",
    "    model.add(Dropout(0.2))\n",
    "    model.add(Flatten())\n",
    "    model.add(Dense(128, activation='relu'))\n",
    "    model.add(Dense(num_classes, activation='softmax'))\n",
    "    # Compilamos el modelo\n",
    "    model.compile(loss='sparse_categorical_crossentropy', optimizer='adam', metrics=['accuracy'])\n",
    "    return model\n",
    "\n",
    "# # Construimos el modelo\n",
    "model = gen_model()"
   ]
  },
  {
   "cell_type": "code",
   "execution_count": 16,
   "metadata": {
    "scrolled": false
   },
   "outputs": [
    {
     "name": "stdout",
     "output_type": "stream",
     "text": [
      "Epoch 1/100\n",
      "18393/18393 [==============================] - 6s 324us/step - loss: 0.3333 - acc: 0.8640\n",
      "Epoch 2/100\n",
      "18393/18393 [==============================] - 6s 324us/step - loss: 0.0231 - acc: 0.9954\n",
      "Epoch 3/100\n",
      "18393/18393 [==============================] - 6s 312us/step - loss: 0.0050 - acc: 0.9995\n",
      "Epoch 4/100\n",
      "18393/18393 [==============================] - 6s 310us/step - loss: 0.0063 - acc: 0.9983\n",
      "Epoch 5/100\n",
      "18393/18393 [==============================] - 6s 313us/step - loss: 0.0097 - acc: 0.9971\n",
      "Epoch 6/100\n",
      "18393/18393 [==============================] - 6s 311us/step - loss: 0.0046 - acc: 0.9989\n",
      "Epoch 7/100\n",
      "18393/18393 [==============================] - 6s 313us/step - loss: 0.0014 - acc: 0.9997 \n",
      "Epoch 8/100\n",
      "18393/18393 [==============================] - 6s 313us/step - loss: 3.2859e-04 - acc: 1.0000\n",
      "Epoch 9/100\n",
      "18393/18393 [==============================] - 6s 310us/step - loss: 1.2692e-04 - acc: 1.0000\n",
      "Epoch 10/100\n",
      "18393/18393 [==============================] - 6s 315us/step - loss: 0.0070 - acc: 0.9979\n",
      "Epoch 11/100\n",
      "18393/18393 [==============================] - 6s 315us/step - loss: 0.0038 - acc: 0.9987\n",
      "Epoch 12/100\n",
      "18393/18393 [==============================] - 6s 315us/step - loss: 0.0021 - acc: 0.9994\n",
      "Epoch 13/100\n",
      "18393/18393 [==============================] - 6s 308us/step - loss: 0.0065 - acc: 0.9981\n",
      "Epoch 14/100\n",
      "18393/18393 [==============================] - 6s 313us/step - loss: 0.0014 - acc: 0.9995\n",
      "Epoch 15/100\n",
      "18393/18393 [==============================] - 6s 311us/step - loss: 5.7911e-04 - acc: 0.9998\n",
      "Epoch 16/100\n",
      "18393/18393 [==============================] - 6s 313us/step - loss: 0.0015 - acc: 0.9995\n",
      "Epoch 17/100\n",
      "18393/18393 [==============================] - 6s 313us/step - loss: 0.0066 - acc: 0.9978\n",
      "Epoch 18/100\n",
      "18393/18393 [==============================] - 6s 309us/step - loss: 4.2922e-04 - acc: 0.9999\n",
      "Epoch 19/100\n",
      "18393/18393 [==============================] - 6s 312us/step - loss: 1.5984e-04 - acc: 1.0000\n",
      "Epoch 20/100\n",
      "18393/18393 [==============================] - 6s 315us/step - loss: 0.0028 - acc: 0.9987\n",
      "Epoch 21/100\n",
      "18393/18393 [==============================] - 6s 316us/step - loss: 0.0048 - acc: 0.9985\n",
      "Epoch 22/100\n",
      "18393/18393 [==============================] - 6s 313us/step - loss: 0.0027 - acc: 0.9993\n",
      "Epoch 23/100\n",
      "18393/18393 [==============================] - 6s 310us/step - loss: 0.0027 - acc: 0.9990\n",
      "Epoch 24/100\n",
      "18393/18393 [==============================] - 6s 312us/step - loss: 0.0012 - acc: 0.9996\n",
      "Epoch 25/100\n",
      "18393/18393 [==============================] - 6s 314us/step - loss: 0.0070 - acc: 0.9978\n",
      "Epoch 26/100\n",
      "18393/18393 [==============================] - 6s 311us/step - loss: 5.8382e-04 - acc: 0.9999\n",
      "Epoch 27/100\n",
      "18393/18393 [==============================] - 6s 312us/step - loss: 3.1812e-05 - acc: 1.0000\n",
      "Epoch 28/100\n",
      "18393/18393 [==============================] - 6s 312us/step - loss: 2.7686e-05 - acc: 1.0000\n",
      "Epoch 29/100\n",
      "18393/18393 [==============================] - 6s 313us/step - loss: 1.9891e-05 - acc: 1.0000\n",
      "Epoch 30/100\n",
      "18393/18393 [==============================] - 6s 311us/step - loss: 3.4195e-04 - acc: 0.9998\n",
      "Epoch 31/100\n",
      "18393/18393 [==============================] - 6s 311us/step - loss: 5.4886e-06 - acc: 1.0000\n",
      "Epoch 32/100\n",
      "18393/18393 [==============================] - 6s 310us/step - loss: 1.3374e-06 - acc: 1.0000\n",
      "Epoch 33/100\n",
      "18393/18393 [==============================] - 6s 309us/step - loss: 7.0168e-06 - acc: 1.0000\n",
      "Epoch 34/100\n",
      "18393/18393 [==============================] - 6s 312us/step - loss: 3.1578e-06 - acc: 1.0000\n",
      "Epoch 35/100\n",
      "18393/18393 [==============================] - 6s 313us/step - loss: 0.0085 - acc: 0.9982\n",
      "Epoch 36/100\n",
      "18393/18393 [==============================] - 6s 310us/step - loss: 0.0026 - acc: 0.9991\n",
      "Epoch 37/100\n",
      "18393/18393 [==============================] - 6s 313us/step - loss: 2.7006e-04 - acc: 0.9998\n",
      "Epoch 38/100\n",
      "18393/18393 [==============================] - 6s 312us/step - loss: 0.0019 - acc: 0.9993\n",
      "Epoch 39/100\n",
      "18393/18393 [==============================] - 6s 313us/step - loss: 3.4898e-05 - acc: 1.0000\n",
      "Epoch 40/100\n",
      "18393/18393 [==============================] - 6s 313us/step - loss: 4.8120e-05 - acc: 1.0000\n",
      "Epoch 41/100\n",
      "18393/18393 [==============================] - 6s 313us/step - loss: 3.4922e-05 - acc: 1.0000\n",
      "Epoch 42/100\n",
      "18393/18393 [==============================] - 6s 314us/step - loss: 1.8026e-05 - acc: 1.0000\n",
      "Epoch 43/100\n",
      "18393/18393 [==============================] - 6s 315us/step - loss: 0.0098 - acc: 0.9971\n",
      "Epoch 44/100\n",
      "18393/18393 [==============================] - 6s 314us/step - loss: 0.0011 - acc: 0.9996\n",
      "Epoch 45/100\n",
      "18393/18393 [==============================] - 6s 318us/step - loss: 4.4594e-05 - acc: 1.0000\n",
      "Epoch 46/100\n",
      "18393/18393 [==============================] - 6s 315us/step - loss: 0.0051 - acc: 0.9987\n",
      "Epoch 47/100\n",
      "18393/18393 [==============================] - 6s 316us/step - loss: 8.3470e-04 - acc: 0.9999\n",
      "Epoch 48/100\n",
      "18393/18393 [==============================] - 6s 317us/step - loss: 2.9246e-04 - acc: 0.9999\n",
      "Epoch 49/100\n",
      "18393/18393 [==============================] - 6s 318us/step - loss: 4.6074e-05 - acc: 1.0000\n",
      "Epoch 50/100\n",
      "18393/18393 [==============================] - 6s 314us/step - loss: 6.7911e-06 - acc: 1.0000\n",
      "Epoch 51/100\n",
      "18393/18393 [==============================] - 6s 315us/step - loss: 1.2727e-06 - acc: 1.0000\n",
      "Epoch 52/100\n",
      "18393/18393 [==============================] - 6s 313us/step - loss: 2.6259e-04 - acc: 0.9999\n",
      "Epoch 53/100\n",
      "18393/18393 [==============================] - 6s 314us/step - loss: 0.0038 - acc: 0.9987\n",
      "Epoch 54/100\n",
      "18393/18393 [==============================] - 6s 313us/step - loss: 0.0019 - acc: 0.9994\n",
      "Epoch 55/100\n",
      "18393/18393 [==============================] - 6s 316us/step - loss: 9.8120e-06 - acc: 1.0000\n",
      "Epoch 56/100\n",
      "18393/18393 [==============================] - 6s 315us/step - loss: 1.0499e-05 - acc: 1.0000\n",
      "Epoch 57/100\n",
      "18393/18393 [==============================] - 6s 315us/step - loss: 4.2072e-06 - acc: 1.0000\n",
      "Epoch 58/100\n",
      "18393/18393 [==============================] - 6s 315us/step - loss: 0.0034 - acc: 0.9989\n",
      "Epoch 59/100\n",
      "18393/18393 [==============================] - 6s 314us/step - loss: 0.0025 - acc: 0.9992\n",
      "Epoch 60/100\n",
      "18393/18393 [==============================] - 6s 313us/step - loss: 1.4718e-05 - acc: 1.0000\n",
      "Epoch 61/100\n",
      "18393/18393 [==============================] - 6s 314us/step - loss: 4.0515e-06 - acc: 1.0000\n",
      "Epoch 62/100\n",
      "18393/18393 [==============================] - 6s 314us/step - loss: 7.7801e-07 - acc: 1.0000\n",
      "Epoch 63/100\n",
      "18393/18393 [==============================] - 6s 314us/step - loss: 5.5008e-07 - acc: 1.0000\n",
      "Epoch 64/100\n",
      "18393/18393 [==============================] - 6s 315us/step - loss: 4.8958e-07 - acc: 1.0000\n",
      "Epoch 65/100\n",
      "18393/18393 [==============================] - 6s 315us/step - loss: 1.5933e-06 - acc: 1.0000\n",
      "Epoch 66/100\n",
      "18393/18393 [==============================] - 6s 317us/step - loss: 4.5262e-07 - acc: 1.0000\n",
      "Epoch 67/100\n",
      "18393/18393 [==============================] - 6s 316us/step - loss: 0.0055 - acc: 0.9985\n",
      "Epoch 68/100\n",
      "18393/18393 [==============================] - 6s 315us/step - loss: 4.6552e-05 - acc: 1.0000\n",
      "Epoch 69/100\n",
      "18393/18393 [==============================] - 6s 315us/step - loss: 0.0030 - acc: 0.9994\n",
      "Epoch 70/100\n",
      "18393/18393 [==============================] - 6s 316us/step - loss: 0.0015 - acc: 0.9998\n",
      "Epoch 71/100\n",
      "18393/18393 [==============================] - 6s 318us/step - loss: 0.0033 - acc: 0.9990\n",
      "Epoch 72/100\n",
      "18393/18393 [==============================] - 6s 315us/step - loss: 1.5911e-05 - acc: 1.0000\n",
      "Epoch 73/100\n",
      "18393/18393 [==============================] - 6s 316us/step - loss: 1.1146e-05 - acc: 1.0000\n",
      "Epoch 74/100\n",
      "18393/18393 [==============================] - 6s 318us/step - loss: 1.7080e-06 - acc: 1.0000\n",
      "Epoch 75/100\n",
      "18393/18393 [==============================] - 6s 316us/step - loss: 1.1937e-06 - acc: 1.0000\n",
      "Epoch 76/100\n",
      "18393/18393 [==============================] - 6s 313us/step - loss: 5.0223e-06 - acc: 1.0000\n",
      "Epoch 77/100\n",
      "18393/18393 [==============================] - 6s 315us/step - loss: 0.0022 - acc: 0.9993\n",
      "Epoch 78/100\n",
      "18393/18393 [==============================] - 6s 315us/step - loss: 0.0023 - acc: 0.9995\n"
     ]
    },
    {
     "name": "stdout",
     "output_type": "stream",
     "text": [
      "Epoch 79/100\n",
      "18393/18393 [==============================] - 6s 309us/step - loss: 1.4128e-04 - acc: 0.9999\n",
      "Epoch 80/100\n",
      "18393/18393 [==============================] - 6s 306us/step - loss: 0.0019 - acc: 0.9996\n",
      "Epoch 81/100\n",
      "18393/18393 [==============================] - 6s 307us/step - loss: 0.0024 - acc: 0.9992\n",
      "Epoch 82/100\n",
      "18393/18393 [==============================] - 6s 306us/step - loss: 7.8658e-04 - acc: 0.9999\n",
      "Epoch 83/100\n",
      "18393/18393 [==============================] - 6s 305us/step - loss: 5.0371e-05 - acc: 1.0000\n",
      "Epoch 84/100\n",
      "18393/18393 [==============================] - 6s 307us/step - loss: 0.0039 - acc: 0.9992\n",
      "Epoch 85/100\n",
      "18393/18393 [==============================] - 6s 310us/step - loss: 2.1265e-05 - acc: 1.0000\n",
      "Epoch 86/100\n",
      "18393/18393 [==============================] - 6s 314us/step - loss: 1.0688e-04 - acc: 0.9999\n",
      "Epoch 87/100\n",
      "18393/18393 [==============================] - 6s 308us/step - loss: 0.0036 - acc: 0.9993\n",
      "Epoch 88/100\n",
      "18393/18393 [==============================] - 6s 305us/step - loss: 0.0036 - acc: 0.9993\n",
      "Epoch 89/100\n",
      "18393/18393 [==============================] - 6s 309us/step - loss: 5.1345e-05 - acc: 1.0000\n",
      "Epoch 90/100\n",
      "18393/18393 [==============================] - 6s 308us/step - loss: 5.8227e-05 - acc: 1.0000\n",
      "Epoch 91/100\n",
      "18393/18393 [==============================] - 6s 307us/step - loss: 5.6142e-06 - acc: 1.0000\n",
      "Epoch 92/100\n",
      "18393/18393 [==============================] - 6s 304us/step - loss: 0.0081 - acc: 0.9986\n",
      "Epoch 93/100\n",
      "18393/18393 [==============================] - 6s 307us/step - loss: 5.3007e-04 - acc: 0.9998\n",
      "Epoch 94/100\n",
      "18393/18393 [==============================] - 6s 307us/step - loss: 3.4656e-04 - acc: 0.9999\n",
      "Epoch 95/100\n",
      "18393/18393 [==============================] - 6s 308us/step - loss: 6.4092e-06 - acc: 1.0000\n",
      "Epoch 96/100\n",
      "18393/18393 [==============================] - 6s 311us/step - loss: 4.3416e-07 - acc: 1.0000\n",
      "Epoch 97/100\n",
      "18393/18393 [==============================] - 6s 317us/step - loss: 5.9752e-06 - acc: 1.0000\n",
      "Epoch 98/100\n",
      "18393/18393 [==============================] - 6s 309us/step - loss: 2.5312e-07 - acc: 1.0000\n",
      "Epoch 99/100\n",
      "18393/18393 [==============================] - 6s 317us/step - loss: 5.4730e-07 - acc: 1.0000\n",
      "Epoch 100/100\n",
      "18393/18393 [==============================] - 6s 311us/step - loss: 2.4651e-07 - acc: 1.0000\n"
     ]
    },
    {
     "data": {
      "text/plain": [
       "<keras.callbacks.History at 0x24f9c95d160>"
      ]
     },
     "execution_count": 16,
     "metadata": {},
     "output_type": "execute_result"
    }
   ],
   "source": [
    "model.fit(np.array(X_train), np.array(y_train_num), batch_size=32, epochs=100)"
   ]
  },
  {
   "cell_type": "code",
   "execution_count": 17,
   "metadata": {},
   "outputs": [
    {
     "name": "stdout",
     "output_type": "stream",
     "text": [
      "2044/2044 [==============================] - 1s 327us/step\n"
     ]
    }
   ],
   "source": [
    "score = model.evaluate(np.array(X_test), np.array(y_test_num), batch_size=10)"
   ]
  },
  {
   "cell_type": "code",
   "execution_count": 18,
   "metadata": {},
   "outputs": [],
   "source": [
    "score\n",
    "tiempo_total = time() - tiempo_total_0\n",
    "## 4088 fotos  10 epochs [12.984897292683506,    0.19435104220684696]\n",
    "## 20437fotos 100 epochs [0.002020884218606656,  1.0]\n",
    "## 20437fotos 100 epochs [2.931224363716336e-07, 1.0]"
   ]
  },
  {
   "cell_type": "code",
   "execution_count": 13,
   "metadata": {},
   "outputs": [
    {
     "name": "stdout",
     "output_type": "stream",
     "text": [
      "Tiempo total:  231.62045860290527\n"
     ]
    }
   ],
   "source": [
    "print(\"Tiempo total: \",tiempo_total)"
   ]
  },
  {
   "cell_type": "code",
   "execution_count": 22,
   "metadata": {
    "scrolled": true
   },
   "outputs": [
    {
     "name": "stdout",
     "output_type": "stream",
     "text": [
      "Score : [2.931224363716336e-07, 1.0]\n",
      "20437 fotos\n"
     ]
    }
   ],
   "source": [
    "print('Score : '+str(score))\n",
    "print(str(len(X_train)+len(X_test))+' fotos')"
   ]
  },
  {
   "cell_type": "code",
   "execution_count": null,
   "metadata": {},
   "outputs": [],
   "source": []
  }
 ],
 "metadata": {
  "kernelspec": {
   "display_name": "Python 3",
   "language": "python",
   "name": "python3"
  },
  "language_info": {
   "codemirror_mode": {
    "name": "ipython",
    "version": 3
   },
   "file_extension": ".py",
   "mimetype": "text/x-python",
   "name": "python",
   "nbconvert_exporter": "python",
   "pygments_lexer": "ipython3",
   "version": "3.6.5"
  }
 },
 "nbformat": 4,
 "nbformat_minor": 2
}
