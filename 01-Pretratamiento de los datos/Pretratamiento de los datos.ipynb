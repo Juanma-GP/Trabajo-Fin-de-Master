{
 "cells": [
  {
   "cell_type": "markdown",
   "metadata": {},
   "source": [
    "## <h1  align=center> <font color=blue size=8px><u>Obtencion de las imágenes a partir de videos</u></font> </h1>"
   ]
  },
  {
   "cell_type": "code",
   "execution_count": null,
   "metadata": {},
   "outputs": [],
   "source": [
    "import cv2\n",
    "import os\n",
    "\n",
    "yourpath = './vacia/'\n",
    "count = 0\n",
    "for root, dirs, files in os.walk(yourpath, topdown=False):\n",
    "    for name in files:\n",
    "        \n",
    "        vidcap = cv2.VideoCapture(yourpath+name)\n",
    "        success,image = vidcap.read()\n",
    "        while success:\n",
    "            cv2.imwrite(\"vacia/imagenes_vacia/frame%d.jpg\" % count, image)    \n",
    "            success,image = vidcap.read()\n",
    "            count += 1"
   ]
  },
  {
   "cell_type": "code",
   "execution_count": null,
   "metadata": {},
   "outputs": [],
   "source": [
    "import cv2\n",
    "import os\n",
    "\n",
    "yourpath = './congestionada/'\n",
    "count = 0\n",
    "for root, dirs, files in os.walk(yourpath, topdown=False):\n",
    "    for name in files:\n",
    "        \n",
    "        vidcap = cv2.VideoCapture(yourpath+name)\n",
    "        success,image = vidcap.read()\n",
    "        while success:\n",
    "            cv2.imwrite(\"F:\\MASTER\\imagenes-congestionada/c\"+name[9:-4]+\"frame%d.jpg\" % count, image)\n",
    "            success,image = vidcap.read()\n",
    "            count += 1"
   ]
  },
  {
   "cell_type": "code",
   "execution_count": null,
   "metadata": {},
   "outputs": [],
   "source": [
    "import cv2\n",
    "import os\n",
    "\n",
    "yourpath = './atascada/'\n",
    "count = 0\n",
    "for root, dirs, files in os.walk(yourpath, topdown=False):\n",
    "    for name in files:\n",
    "        \n",
    "        vidcap = cv2.VideoCapture(yourpath+name)\n",
    "        success,image = vidcap.read()\n",
    "        while success:\n",
    "            cv2.imwrite(\"./imagenes-atascada/tj\"+name[9:-4]+\"__%d.jpg\" % count, image)      \n",
    "            success,image = vidcap.read()\n",
    "            count += 1"
   ]
  },
  {
   "cell_type": "markdown",
   "metadata": {},
   "source": [
    "## <h1  align=center> <font color=blue>Reducción de tamaño de las imagenes</font> </h1>"
   ]
  },
  {
   "cell_type": "markdown",
   "metadata": {},
   "source": [
    "## <font color=darkGreen> Carretera vacia </font>"
   ]
  },
  {
   "cell_type": "code",
   "execution_count": null,
   "metadata": {},
   "outputs": [],
   "source": [
    "yourpath = './imagenes-vacia/'\n",
    "count = 0\n",
    "image = cv2.imread(yourpath+'frame0.jpg')\n",
    "r = 900.0 / image.shape[1]\n",
    "dim = (900, int(image.shape[0] * r))\n",
    "for root, dirs, files in os.walk(yourpath, topdown=False):\n",
    "    for name in files:\n",
    "        print(name[:-4],end=\", \")\n",
    "        image = cv2.imread(yourpath+name)\n",
    "        resized = cv2.resize(image, dim, interpolation = cv2.INTER_AREA)\n",
    "        count += 1"
   ]
  },
  {
   "cell_type": "markdown",
   "metadata": {},
   "source": [
    "## <font color=orange> Carretera congestionada </font>"
   ]
  },
  {
   "cell_type": "code",
   "execution_count": null,
   "metadata": {
    "scrolled": true
   },
   "outputs": [],
   "source": [
    "yourpath = './imagenes-congestionada/'\n",
    "image = cv2.imread(yourpath+'c072847frame0.jpg')\n",
    "r = 900.0 / image.shape[1]\n",
    "dim = (900, int(image.shape[0] * r))\n",
    "count=0\n",
    "for root, dirs, files in os.walk(yourpath, topdown=False):\n",
    "    for name in files:\n",
    "        image = cv2.imread(yourpath+name)\n",
    "        resized = cv2.resize(image, dim, interpolation = cv2.INTER_AREA)\n",
    "        if(len(str(count))==1):\n",
    "            conteo = '000'+str(count)\n",
    "        if(len(str(count))==2):\n",
    "            conteo = '00'+str(count)\n",
    "        if(len(str(count))==3):\n",
    "            conteo = '0'+str(count)\n",
    "        else:\n",
    "            conteo = str(count)\n",
    "            \n",
    "        cv2.imwrite(yourpath+\"cRed_frame%s.jpg\" % conteo, resized)\n",
    "        count +=1"
   ]
  },
  {
   "cell_type": "markdown",
   "metadata": {},
   "source": [
    "## <font color=darkred> Carretera atascada </font>"
   ]
  },
  {
   "cell_type": "code",
   "execution_count": null,
   "metadata": {},
   "outputs": [],
   "source": [
    "yourpath = './imagenes-atascada/'\n",
    "image = cv2.imread(yourpath+'tj074724__0.jpg')\n",
    "r = 900.0 / image.shape[1]\n",
    "dim = (900, int(image.shape[0] * r))\n",
    "count=0\n",
    "for root, dirs, files in os.walk(yourpath, topdown=False):\n",
    "    for name in files:\n",
    "        image = cv2.imread(yourpath+name)\n",
    "        resized = cv2.resize(image, dim, interpolation = cv2.INTER_AREA)\n",
    "        if(count<10):\n",
    "            conteo = '000'+str(count)\n",
    "        if(9<count<100):\n",
    "            conteo = '00'+str(count)\n",
    "        if(99<count<1000):\n",
    "            conteo = '0'+str(count)\n",
    "        else:\n",
    "            conteo = str(count)\n",
    "        cv2.imwrite(yourpath+\"aRed_frame%s.jpg\" % conteo, resized)\n",
    "        count +=1"
   ]
  }
 ],
 "metadata": {
  "kernelspec": {
   "display_name": "Python 3",
   "language": "python",
   "name": "python3"
  },
  "language_info": {
   "codemirror_mode": {
    "name": "ipython",
    "version": 3
   },
   "file_extension": ".py",
   "mimetype": "text/x-python",
   "name": "python",
   "nbconvert_exporter": "python",
   "pygments_lexer": "ipython3",
   "version": "3.6.5"
  }
 },
 "nbformat": 4,
 "nbformat_minor": 2
}
