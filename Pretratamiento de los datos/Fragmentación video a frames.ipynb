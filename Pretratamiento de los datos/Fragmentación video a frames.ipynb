{
 "cells": [
  {
   "cell_type": "markdown",
   "metadata": {
    "collapsed": true
   },
   "source": [
    "# Split videos in frames"
   ]
  },
  {
   "cell_type": "code",
   "execution_count": null,
   "metadata": {},
   "outputs": [],
   "source": [
    "import cv2\n",
    "import os\n",
    "\n",
    "yourpath = './vacia/'\n",
    "count = 5205\n",
    "for root, dirs, files in os.walk(yourpath, topdown=False):\n",
    "    for name in files:\n",
    "        \n",
    "        vidcap = cv2.VideoCapture(yourpath+name)\n",
    "        success,image = vidcap.read()\n",
    "        while success:\n",
    "            cv2.imwrite(\"vacia/imagenes_vacia/frame%d.jpg\" % count, image)     # save frame as JPEG file      \n",
    "            success,image = vidcap.read()\n",
    "            print('Read the frame number %d: ' % count , success)\n",
    "            count += 1"
   ]
  },
  {
   "cell_type": "code",
   "execution_count": null,
   "metadata": {},
   "outputs": [],
   "source": [
    "import cv2\n",
    "import os\n",
    "\n",
    "yourpath = './congestionada/'\n",
    "count = 7085\n",
    "for root, dirs, files in os.walk(yourpath, topdown=False):\n",
    "    for name in files:\n",
    "        \n",
    "        vidcap = cv2.VideoCapture(yourpath+name)\n",
    "        success,image = vidcap.read()\n",
    "        while success:\n",
    "            cv2.imwrite(\"F:\\MASTER\\imagenes-congestionada/c\"+name[9:-4]+\"frame%d.jpg\" % count, image)     # save frame as JPEG file      \n",
    "            success,image = vidcap.read()\n",
    "            print('Read the frame number %d of the video called %s: ' % (count,name) , success)\n",
    "            count += 1"
   ]
  }
 ],
 "metadata": {
  "kernelspec": {
   "display_name": "Python 3",
   "language": "python",
   "name": "python3"
  },
  "language_info": {
   "codemirror_mode": {
    "name": "ipython",
    "version": 3
   },
   "file_extension": ".py",
   "mimetype": "text/x-python",
   "name": "python",
   "nbconvert_exporter": "python",
   "pygments_lexer": "ipython3",
   "version": "3.6.5"
  }
 },
 "nbformat": 4,
 "nbformat_minor": 2
}
